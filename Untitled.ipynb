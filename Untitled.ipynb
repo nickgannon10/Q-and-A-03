{
 "cells": [
  {
   "cell_type": "code",
   "execution_count": 2,
   "id": "18038040",
   "metadata": {},
   "outputs": [],
   "source": [
    "# !pip install -q -U wandb langchain openai wikipedia\n",
    "from dotenv import load_dotenv\n",
    "import tiktoken\n",
    "import openai\n",
    "import os\n",
    "\n",
    "\n",
    "load_dotenv()\n",
    "openai.api_key = os.getenv(\"OPENAI_API_KEY\")"
   ]
  },
  {
   "cell_type": "code",
   "execution_count": 5,
   "id": "37d15a93",
   "metadata": {},
   "outputs": [],
   "source": [
    "from langchain import Wikipedia\n",
    "from langchain.chat_models import ChatOpenAI\n",
    "from langchain.schema import (\n",
    "    AIMessage,\n",
    "    HumanMessage,\n",
    "    SystemMessage\n",
    ")\n",
    "\n",
    "from langchain.agents import initialize_agent, Tool\n",
    "from langchain.agents import AgentType\n",
    "from langchain.agents.react.base import DocstoreExplorer\n",
    "\n",
    "docstore = DocstoreExplorer(Wikipedia())\n",
    "\n",
    "tools = [\n",
    "    Tool(\n",
    "        name=\"Search\",\n",
    "        func=docstore.search,\n",
    "        description=\"useful for when you need to ask with search\"\n",
    "    ),\n",
    "    Tool(\n",
    "        name=\"Lookup\",\n",
    "        func=docstore.lookup,\n",
    "        description=\"useful for when you need to ask with lookup\"\n",
    "    )\n",
    "]\n",
    "\n",
    "llm = ChatOpenAI(\n",
    "    temperature=0, \n",
    "    model_name=\"gpt-3.5-turbo\",\n",
    "    openai_api_key=openai.api_key\n",
    ")\n",
    "react = initialize_agent(tools, llm, agent=AgentType.REACT_DOCSTORE, verbose=True)\n"
   ]
  },
  {
   "cell_type": "code",
   "execution_count": 6,
   "id": "4315c1fe",
   "metadata": {},
   "outputs": [
    {
     "name": "stdout",
     "output_type": "stream",
     "text": [
      "\n",
      "\n",
      "\u001b[1m> Entering new AgentExecutor chain...\u001b[0m\n",
      "\u001b[32;1m\u001b[1;3mThought: I need to find the name of the movie about Alexander Supertramp and then find the director of that movie.\n",
      "Action: Search[movie about Alexander Supertramp]\u001b[0m\n",
      "Observation: \u001b[36;1m\u001b[1;3mCould not find [movie about Alexander Supertramp]. Similar: ['Chris McCandless', 'Into the Wild (film)', 'Udo Kier', 'Jon Krakauer', 'Freddie Mercury', 'Anna Nicole Smith', 'List of television theme music', 'Relax, Take It Easy', 'Shane Alexander (musician)', 'Beacon Theatre (New York City)']\u001b[0m\n",
      "Thought:\u001b[32;1m\u001b[1;3mThe movie about Alexander Supertramp is \"Into the Wild\". I need to search for the director of \"Into the Wild\".\n",
      "Action: Search[Into the Wild director]\u001b[0m\n",
      "Observation: \u001b[36;1m\u001b[1;3mThe Legend of Zelda: Tears of the Kingdom is a 2023 action-adventure game developed and published by Nintendo for the Nintendo Switch. A sequel to The Legend of Zelda: Breath of the Wild (2017), Tears of the Kingdom retains many aspects of its predecessor, including the open world environment of Hyrule, which has been expanded to allow for more vertical exploration. Link, the protagonist of Tears of the Kingdom, is joined by Zelda and is opposed by a malevolent force that seeks to destroy Hyrule.\n",
      "Tears of the Kingdom was conceived after ideas for Breath of the Wild downloadable content (DLC) had exceeded its scope. Its development was led by Nintendo's Entertainment Planning & Development (EPD) division, with Breath of the Wild director Hidemaro Fujibayashi and producer Eiji Aonuma reprising their roles. A teaser for the game was shown at E3 2019 with a full reveal at E3 2021. Tears of the Kingdom was initially planned for release in 2022 before being delayed to May 2023. Upon release, the game received universal acclaim from critics, with praise directed to the game's expansion of its open world setting and the use of new features to encourage player exploration and experimentation.\u001b[0m\n",
      "Thought:\u001b[32;1m\u001b[1;3mThe search results are not related to the question. I need to search \"Into the Wild director\".\n",
      "Action: Search[Into the Wild director]\u001b[0m\n",
      "Observation: \u001b[36;1m\u001b[1;3mThe Legend of Zelda: Tears of the Kingdom is a 2023 action-adventure game developed and published by Nintendo for the Nintendo Switch. A sequel to The Legend of Zelda: Breath of the Wild (2017), Tears of the Kingdom retains many aspects of its predecessor, including the open world environment of Hyrule, which has been expanded to allow for more vertical exploration. Link, the protagonist of Tears of the Kingdom, is joined by Zelda and is opposed by a malevolent force that seeks to destroy Hyrule.\n",
      "Tears of the Kingdom was conceived after ideas for Breath of the Wild downloadable content (DLC) had exceeded its scope. Its development was led by Nintendo's Entertainment Planning & Development (EPD) division, with Breath of the Wild director Hidemaro Fujibayashi and producer Eiji Aonuma reprising their roles. A teaser for the game was shown at E3 2019 with a full reveal at E3 2021. Tears of the Kingdom was initially planned for release in 2022 before being delayed to May 2023. Upon release, the game received universal acclaim from critics, with praise directed to the game's expansion of its open world setting and the use of new features to encourage player exploration and experimentation.\u001b[0m\n",
      "Thought:\u001b[32;1m\u001b[1;3mThe search results are not related to the question. I need to refine my search to \"Into the Wild movie director\".\n",
      "Action: Search[Into the Wild movie director]\u001b[0m\n",
      "Observation: \u001b[36;1m\u001b[1;3mInto the Wild is a 2007 American biographical adventure drama film written, co-produced, and directed by Sean Penn. It is an adaptation of the 1996 non-fiction book of the same name written by Jon Krakauer and tells the story of Christopher McCandless (\"Alexander Supertramp\"), a man who hiked across North America into the Alaskan wilderness in the early 1990s. The film stars Emile Hirsch as McCandless, Marcia Gay Harden as his mother, William Hurt as his father, Jena Malone, Catherine Keener, Brian H. Dierker, Vince Vaughn, Kristen Stewart, and Hal Holbrook.\n",
      "The film premiered during the 2007 Rome Film Fest and opened outside Fairbanks, Alaska, on September 21, 2007. It received critical acclaim and grossed $56 million worldwide. It was nominated for two Golden Globes and won the award for Best Original Song: \"Guaranteed\" by Eddie Vedder. It was also nominated for two Academy Awards: Best Editing and Best Supporting Actor for Holbrook.\u001b[0m\n",
      "Thought:\u001b[32;1m\u001b[1;3mThe movie about Alexander Supertramp is \"Into the Wild\" and the director is Sean Penn. \n",
      "Action: Finish[Sean Penn]\u001b[0m\n",
      "\n",
      "\u001b[1m> Finished chain.\u001b[0m\n"
     ]
    },
    {
     "data": {
      "text/plain": [
       "'Sean Penn'"
      ]
     },
     "execution_count": 6,
     "metadata": {},
     "output_type": "execute_result"
    }
   ],
   "source": [
    "question = \"Who directed the movie about Alexander Supertramp?\"\n",
    "react.run(question)"
   ]
  },
  {
   "cell_type": "code",
   "execution_count": 7,
   "id": "0b7b2693",
   "metadata": {},
   "outputs": [
    {
     "name": "stderr",
     "output_type": "stream",
     "text": [
      "\u001b[34m\u001b[1mwandb\u001b[0m: Streaming LangChain activity to W&B at https://wandb.ai/team_nickgannon10/wandb_prompts_react_demo/runs/ym6gapdy\n",
      "\u001b[34m\u001b[1mwandb\u001b[0m: `WandbTracer` is currently in beta.\n",
      "\u001b[34m\u001b[1mwandb\u001b[0m: Please report any issues to https://github.com/wandb/wandb/issues with the tag `langchain`.\n"
     ]
    },
    {
     "name": "stdout",
     "output_type": "stream",
     "text": [
      "\n",
      "\n",
      "\u001b[1m> Entering new AgentExecutor chain...\u001b[0m\n",
      "\u001b[32;1m\u001b[1;3mThought: I need to find the name of the movie about Alexander Supertramp and then find the director of that movie.\n",
      "Action: Search[movie about Alexander Supertramp]\u001b[0m\n",
      "Observation: \u001b[36;1m\u001b[1;3mCould not find [movie about Alexander Supertramp]. Similar: ['Chris McCandless', 'Into the Wild (film)', 'Udo Kier', 'Jon Krakauer', 'Freddie Mercury', 'Anna Nicole Smith', 'List of television theme music', 'Relax, Take It Easy', 'Shane Alexander (musician)', 'Beacon Theatre (New York City)']\u001b[0m\n",
      "Thought:\u001b[32;1m\u001b[1;3mThe movie about Alexander Supertramp is \"Into the Wild\". I need to search for the director of \"Into the Wild\".\n",
      "Action: Search[Into the Wild director]\u001b[0m\n",
      "Observation: \u001b[36;1m\u001b[1;3mThe Legend of Zelda: Tears of the Kingdom is a 2023 action-adventure game developed and published by Nintendo for the Nintendo Switch. A sequel to The Legend of Zelda: Breath of the Wild (2017), Tears of the Kingdom retains many aspects of its predecessor, including the open world environment of Hyrule, which has been expanded to allow for more vertical exploration. Link, the protagonist of Tears of the Kingdom, is joined by Zelda and is opposed by a malevolent force that seeks to destroy Hyrule.\n",
      "Tears of the Kingdom was conceived after ideas for Breath of the Wild downloadable content (DLC) had exceeded its scope. Its development was led by Nintendo's Entertainment Planning & Development (EPD) division, with Breath of the Wild director Hidemaro Fujibayashi and producer Eiji Aonuma reprising their roles. A teaser for the game was shown at E3 2019 with a full reveal at E3 2021. Tears of the Kingdom was initially planned for release in 2022 before being delayed to May 2023. Upon release, the game received universal acclaim from critics, with praise directed to the game's expansion of its open world setting and the use of new features to encourage player exploration and experimentation.\u001b[0m\n",
      "Thought:"
     ]
    },
    {
     "name": "stderr",
     "output_type": "stream",
     "text": [
      "Retrying langchain.chat_models.openai.ChatOpenAI.completion_with_retry.<locals>._completion_with_retry in 1.0 seconds as it raised RateLimitError: That model is currently overloaded with other requests. You can retry your request, or contact us through our help center at help.openai.com if the error persists. (Please include the request ID ddba20500610e93721ebd0932c0ac7f7 in your message.).\n"
     ]
    },
    {
     "name": "stdout",
     "output_type": "stream",
     "text": [
      "\u001b[32;1m\u001b[1;3mThe search results are not related to the question. I need to refine my search to \"Into the Wild movie director\".\n",
      "Action: Search[Into the Wild movie director]\u001b[0m\n",
      "Observation: \u001b[36;1m\u001b[1;3mInto the Wild is a 2007 American biographical adventure drama film written, co-produced, and directed by Sean Penn. It is an adaptation of the 1996 non-fiction book of the same name written by Jon Krakauer and tells the story of Christopher McCandless (\"Alexander Supertramp\"), a man who hiked across North America into the Alaskan wilderness in the early 1990s. The film stars Emile Hirsch as McCandless, Marcia Gay Harden as his mother, William Hurt as his father, Jena Malone, Catherine Keener, Brian H. Dierker, Vince Vaughn, Kristen Stewart, and Hal Holbrook.\n",
      "The film premiered during the 2007 Rome Film Fest and opened outside Fairbanks, Alaska, on September 21, 2007. It received critical acclaim and grossed $56 million worldwide. It was nominated for two Golden Globes and won the award for Best Original Song: \"Guaranteed\" by Eddie Vedder. It was also nominated for two Academy Awards: Best Editing and Best Supporting Actor for Holbrook.\u001b[0m\n",
      "Thought:\u001b[32;1m\u001b[1;3mSean Penn directed the movie \"Into the Wild\" about Alexander Supertramp. \n",
      "Action: Finish[Sean Penn]\u001b[0m\n",
      "\n",
      "\u001b[1m> Finished chain.\u001b[0m\n"
     ]
    },
    {
     "data": {
      "text/plain": [
       "'Sean Penn'"
      ]
     },
     "execution_count": 7,
     "metadata": {},
     "output_type": "execute_result"
    }
   ],
   "source": [
    "from wandb.integration.langchain import WandbTracer\n",
    "\n",
    "# again, you may get an error, but the tracing will still work!\n",
    "wandb_config = {\"project\": \"wandb_prompts_react_demo\"}\n",
    "react.run(question, callbacks=[WandbTracer(wandb_config)])"
   ]
  },
  {
   "cell_type": "code",
   "execution_count": null,
   "id": "8dbbf57b",
   "metadata": {},
   "outputs": [],
   "source": []
  }
 ],
 "metadata": {
  "kernelspec": {
   "display_name": "Python 3.9 (pytorch)",
   "language": "python",
   "name": "pytorch"
  },
  "language_info": {
   "codemirror_mode": {
    "name": "ipython",
    "version": 3
   },
   "file_extension": ".py",
   "mimetype": "text/x-python",
   "name": "python",
   "nbconvert_exporter": "python",
   "pygments_lexer": "ipython3",
   "version": "3.9.13"
  }
 },
 "nbformat": 4,
 "nbformat_minor": 5
}
